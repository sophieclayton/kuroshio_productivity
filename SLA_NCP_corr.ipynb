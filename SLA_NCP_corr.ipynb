{
 "cells": [
  {
   "cell_type": "code",
   "execution_count": 1,
   "metadata": {
    "collapsed": false
   },
   "outputs": [
    {
     "name": "stderr",
     "output_type": "stream",
     "text": [
      "/Users/sclayton/anaconda/lib/python2.7/site-packages/matplotlib/font_manager.py:273: UserWarning: Matplotlib is building the font cache using fc-list. This may take a moment.\n",
      "  warnings.warn('Matplotlib is building the font cache using fc-list. This may take a moment.')\n"
     ]
    }
   ],
   "source": [
    "% matplotlib inline\n",
    "import numpy as np\n",
    "import pandas as pd\n",
    "import matplotlib.pyplot as plt\n",
    "from netCDF4 import Dataset\n",
    "import glob\n",
    "import numpy.ma as ma\n",
    "\n",
    "import gsw as sw\n",
    "from mpl_toolkits.basemap import Basemap, cm, interp\n",
    "\n",
    "from matplotlib import rcParams\n",
    "rcParams.update({'figure.autolayout': True})\n",
    "rcParams.update({'font.family': 'serif'})\n",
    "rcParams.update({'font.serif': 'Times New Roman'})\n",
    "\n",
    "import scipy.stats as st"
   ]
  },
  {
   "cell_type": "code",
   "execution_count": 2,
   "metadata": {
    "collapsed": false
   },
   "outputs": [
    {
     "name": "stdout",
     "output_type": "stream",
     "text": [
      "Index([u'Timestamp', u'Lat', u'Lon', u'S', u'T', u'Fluo', u'TrueO2Ar',\n",
      "       u'O2Arsat', u'O2Arbiosat', u'MLD (WOA13)', u'Wkn', u'Air-sea flux',\n",
      "       u'density'],\n",
      "      dtype='object')\n"
     ]
    }
   ],
   "source": [
    "# import data\n",
    "\n",
    "maxlon = 171\n",
    "minlon = 130\n",
    "\n",
    "Tok1 = pd.read_csv(r'/Users/sclayton/Google Drive/o2ar_data/Tokyo1_vSept16.csv', sep = ',')\n",
    "Tok1['density'] = sw.rho(Tok1['S'].values,Tok1['T'].values,0)\n",
    "Tok1 = Tok1[(Tok1['Lon']>minlon) & (Tok1['Lon']<maxlon)]\n",
    "\n",
    "Tok1['dlat'] = np.insert(np.diff(Tok1['Lat']), 0, 0)\n",
    "Tok1 = Tok1[np.abs(Tok1['dlat'])<0.08]\n",
    "\n",
    "Tok3 = pd.read_csv(r'/Users/sclayton/Google Drive/o2ar_data/Tokyo3_vSept16.csv', sep = ',')\n",
    "Tok3['density'] = sw.rho(Tok3['S'].values,Tok3['T'].values,0)\n",
    "Tok3 = Tok3[(Tok3['Lon']>minlon) & (Tok3['Lon']<maxlon)]\n",
    "\n",
    "Tian = pd.read_csv(r'/Users/sclayton/Google Drive/o2ar_data/Tianjin2_vSept16.csv', sep = ',')\n",
    "Tian['density'] = sw.rho(Tian['S'].values,Tian['T'].values,0)\n",
    "Tian = Tian[(Tian['Lon']>minlon) & (Tian['Lon']<maxlon)]\n",
    "\n",
    "print Tian.columns"
   ]
  },
  {
   "cell_type": "code",
   "execution_count": 18,
   "metadata": {
    "collapsed": false
   },
   "outputs": [
    {
     "name": "stdout",
     "output_type": "stream",
     "text": [
      "estimated slope =  -175.717108138 , r =  -0.77338077543 , p-value < 0.05  True\n"
     ]
    }
   ],
   "source": [
    "# import SSH data\n",
    "\n",
    "files = glob.glob('../data/sla/*.nc')\n",
    "#print files\n",
    "\n",
    "Tok1_SSH = Dataset(files[0], mode='r')\n",
    "\n",
    "slaT = ma.getdata(np.squeeze(Tok1_SSH.variables['sla'][:]))\n",
    "\n",
    "lons = Tok1_SSH.variables['lon'][:]\n",
    "lats = Tok1_SSH.variables['lat'][:]\n",
    "\n",
    "ncp = Tok1['Air-sea flux'].values\n",
    "temp = Tok1['T'].values\n",
    "\n",
    "Tok1_SSH.close()\n",
    "\n",
    "temp_track = []\n",
    "ncp_track = []\n",
    "sla_track = []\n",
    "new_lat = []\n",
    "spacing = 0.25\n",
    "\n",
    "x = lons\n",
    "y = lats\n",
    "\n",
    "xnew = Tok1['Lon'].values\n",
    "ynew = Tok1['Lat'].values\n",
    "\n",
    "x = np.arange(140, 160.25, 0.25)\n",
    "\n",
    "for n in range(len(x)):\n",
    "    \n",
    "    k = np.where((xnew < (x[n] + (spacing*0.5))) & (xnew > (x[n] - (spacing*0.5))))   \n",
    "    l = np.mean(ynew[k])\n",
    "    m = np.mean(ncp[k])\n",
    "    o = np.mean(temp[k])\n",
    "    \n",
    "    # now need to find SLA value to coincide with NCP\n",
    "    ll = np.where((lats>=(l - (spacing*0.5))) & (lats<=(l + (spacing*0.5))))\n",
    "    mm = np.where((lons>=(x[n] - (spacing*0.5))) & (lons<(x[n] + (spacing*0.5))))\n",
    "   \n",
    "    ss = np.asscalar(np.mean(np.squeeze(slaT[ll,mm][0])))\n",
    "\n",
    "    if np.isfinite(m) & np.isfinite(l):\n",
    "        ncp_track.append(m)\n",
    "        temp_track.append(o)\n",
    "        new_lat.append(l)\n",
    "        sla_track.append(ss)\n",
    "    else:\n",
    "        ncp_track.append(np.nan)\n",
    "        temp_track.append(np.nan)\n",
    "        new_lat.append(np.nan)\n",
    "        sla_track.append(np.nan)\n",
    "\n",
    "    #print xnew[n], ynew[n], k, l, m\n",
    "\n",
    "#plt.scatter(sla_track, ncp_track, s = 20, lw = 0)\n",
    "\n",
    "dtab = pd.DataFrame()\n",
    "dtab['sla'] = sla_track\n",
    "dtab['ncp'] = ncp_track\n",
    "dtab['lat'] = new_lat\n",
    "dtab['temp'] = temp_track \n",
    "dtabT1 = dtab.dropna()\n",
    "\n",
    "subset = dtabT1[dtabT1['temp']<18]\n",
    "\n",
    "mx, cx, rx, px, std_err = st.linregress(subset['sla'], subset['ncp'])\n",
    "print 'estimated slope = ', mx, ', r = ', rx, ', p-value < 0.05 ', px<0.05\n",
    "\n",
    "# plt.plot(np.arange(-0.6, 0.8, 0.01), mx*np.arange(-0.6, 0.8, 0.01)+cx, 'r')\n",
    "# plt.show()"
   ]
  },
  {
   "cell_type": "code",
   "execution_count": 4,
   "metadata": {
    "collapsed": false
   },
   "outputs": [],
   "source": [
    "Tok3_SSH = Dataset(files[2], mode='r')\n",
    "slaT = np.squeeze(Tok3_SSH.variables['sla'][:])\n",
    "lons = Tok3_SSH.variables['lon'][:]\n",
    "lats = Tok3_SSH.variables['lat'][:]\n",
    "\n",
    "ncp = Tok3['Air-sea flux'].values\n",
    "\n",
    "Tok3_SSH.close()\n",
    "\n",
    "ncp_track = []\n",
    "sla_track = []\n",
    "new_lat = []\n",
    "spacing = 0.25\n",
    "\n",
    "x = lons\n",
    "y = lats\n",
    "\n",
    "xnew = Tok3['Lon'].values\n",
    "ynew = Tok3['Lat'].values\n",
    "\n",
    "x = np.arange(140, 160.25, 0.25)\n",
    "\n",
    "for n in range(len(x)):\n",
    "    \n",
    "    k = np.where((xnew < (x[n] + (spacing*0.5))) & (xnew > (x[n] - (spacing*0.5))))   \n",
    "    l = np.mean(ynew[k])\n",
    "    m = np.mean(ncp[k])\n",
    "    \n",
    "    # now need to find SLA value to coincide with NCP\n",
    "    ll = np.where((lats>=(l - (spacing*0.5))) & (lats<=(l + (spacing*0.5))))\n",
    "    mm = np.where((lons>=(x[n] - (spacing*0.5))) & (lons<(x[n] + (spacing*0.5))))\n",
    "   \n",
    "    ss = np.asscalar(np.mean(np.squeeze(slaT[ll,mm][0])))\n",
    "\n",
    "    if np.isfinite(m) & np.isfinite(l):\n",
    "        ncp_track.append(m)\n",
    "        new_lat.append(l)\n",
    "        sla_track.append(ss)\n",
    "    else:\n",
    "        ncp_track.append(np.nan)\n",
    "        new_lat.append(np.nan)\n",
    "        sla_track.append(np.nan)\n",
    "\n",
    "    #print xnew[n], ynew[n], k, l, m\n",
    "\n",
    "#plt.scatter(sla_track, ncp_track, s = 20, lw = 0)\n",
    "\n",
    "\n",
    "dtab = pd.DataFrame()\n",
    "dtab['sla'] = sla_track\n",
    "dtab['ncp'] = ncp_track\n",
    "dtab['lat'] = new_lat\n",
    "\n",
    "dtabT3 = dtab.dropna()\n",
    "\n",
    "# mx, cx, rx, px, std_err = st.linregress(dtab['sla'], dtab['ncp'])\n",
    "# print 'estimated slope = ', mx, ', r = ', rx, ', p-value < 0.05 ', px<0.05\n",
    "\n",
    "# plt.plot(np.arange(-0.6, 0.8, 0.01), mx*np.arange(-0.6, 0.8, 0.01)+cx, 'r')\n",
    "# plt.show()\n"
   ]
  },
  {
   "cell_type": "code",
   "execution_count": 13,
   "metadata": {
    "collapsed": false,
    "scrolled": true
   },
   "outputs": [
    {
     "name": "stdout",
     "output_type": "stream",
     "text": [
      "estimated slope =  nan , r =  nan , p-value < 0.05  False\n"
     ]
    }
   ],
   "source": [
    "T_SSH = Dataset(files[5], mode='r')\n",
    "slaT = np.squeeze(T_SSH.variables['sla'][:])\n",
    "lons = T_SSH.variables['lon'][:]\n",
    "lats = T_SSH.variables['lat'][:]\n",
    "\n",
    "ncp = Tian['Air-sea flux'].values\n",
    "temp = Tian['T'].values\n",
    "\n",
    "T_SSH.close()\n",
    "\n",
    "temp_track = []\n",
    "ncp_track = []\n",
    "sla_track = []\n",
    "new_lat = []\n",
    "spacing = 0.25\n",
    "\n",
    "x = lons\n",
    "y = lats\n",
    "\n",
    "xnew = Tian['Lon'].values\n",
    "ynew = Tian['Lat'].values\n",
    "\n",
    "x = np.arange(140, 160.25, 0.25)\n",
    "\n",
    "for n in range(len(x)):\n",
    "    \n",
    "    k = np.where((xnew < (x[n] + (spacing*0.5))) & (xnew > (x[n] - (spacing*0.5))))   \n",
    "    l = np.mean(ynew[k])\n",
    "    m = np.mean(ncp[k])\n",
    "    p = np.mean(temp[k])\n",
    "    \n",
    "    # now need to find SLA value to coincide with NCP\n",
    "    ll = np.where((lats>=(l - (spacing*0.5))) & (lats<=(l + (spacing*0.5))))\n",
    "    mm = np.where((lons>=(x[n] - (spacing*0.5))) & (lons<(x[n] + (spacing*0.5))))\n",
    "   \n",
    "    ss = np.asscalar(np.mean(np.squeeze(slaT[ll,mm][0])))\n",
    "\n",
    "    if np.isfinite(m) & np.isfinite(l):\n",
    "        temp_track.append(p)\n",
    "        ncp_track.append(m)\n",
    "        new_lat.append(l)\n",
    "        sla_track.append(ss)\n",
    "    else:\n",
    "        ncp_track.append(np.nan)\n",
    "        temp_track.append(np.nan)\n",
    "        new_lat.append(np.nan)\n",
    "        sla_track.append(np.nan)\n",
    "\n",
    "    #print xnew[n], ynew[n], k, l, m\n",
    "\n",
    "#plt.scatter(new_lat, ncp_track, s = 20, lw = 0)\n",
    "\n",
    "dtab = pd.DataFrame()\n",
    "dtab['sla'] = sla_track\n",
    "dtab['ncp'] = ncp_track\n",
    "dtab['lat'] = new_lat\n",
    "dtab['temp'] = temp_track\n",
    "dtabTian = dtab.dropna()\n",
    "\n",
    "mx, cx, rx, px, std_err = st.linregress(dtab['sla'], dtab['ncp'])\n",
    "print 'estimated slope = ', mx, ', r = ', rx, ', p-value < 0.05 ', px<0.05\n",
    "\n",
    "# #plt.plot(np.arange(34, 42, 0.5), mx*np.arange(34, 42, 0.5)+cx, 'r')\n",
    "# plt.show()\n"
   ]
  },
  {
   "cell_type": "code",
   "execution_count": 23,
   "metadata": {
    "collapsed": false
   },
   "outputs": [
    {
     "data": {
      "image/png": "[encoded data removed]",
      "text/plain": [
       "<matplotlib.figure.Figure at 0x11fe20fd0>"
      ]
     },
     "metadata": {},
     "output_type": "display_data"
    }
   ],
   "source": [
    "# make a 3 panel plot showing the relationship for each cruise between SLA and NCP\n",
    "palette = plt.get_cmap('RdYlBu_r', 30)\n",
    "# fig1, (ax1, ax2, ax3) = plt.subplots(1, 3, figsize = (12, 4), dpi = 300)\n",
    "fig1, (ax1, ax3) = plt.subplots(1, 2, figsize = (12, 6), dpi = 300)\n",
    "\n",
    "\n",
    "ax1.scatter(dtabT1['sla'], dtabT1['ncp'], s=200, c=dtabT1['temp'] , lw = 0, cmap = palette)\n",
    "\n",
    "ax1.plot(np.arange(-0.4, 0.2, 0.01), mx*np.arange(-0.4, 0.2, 0.01)+cx, 'k', lw =3)\n",
    "\n",
    "\n",
    "ax1.set_xlim([-0.6, 0.8])\n",
    "ax1.set_ylim([-20, 90])\n",
    "ax1.set_ylabel('Net Community Production', fontsize=16)\n",
    "ax1.set_xlabel('Sea Level Anomaly', fontsize = 16)\n",
    "ax1.set_title('May 2011', fontsize = 16)\n",
    "ax1.tick_params(labelsize = 14)\n",
    "\n",
    "# ax2.plot(dtabT3['sla'], dtabT3['ncp'], '.k', lw = 0, markersize = 10)\n",
    "# ax2.set_xlim([-0.6, 0.8])\n",
    "# ax2.set_ylim([-20, 90])\n",
    "# ax2.set_xlabel('Sea Level Anomaly (m)', fontsize=16)\n",
    "# ax2.set_title('September 2011', fontsize = 16)\n",
    "# ax2.tick_params(labelsize = 14)\n",
    "\n",
    "ax3.scatter(dtabTian['sla'], dtabTian['ncp'], s=200, c=dtabTian['temp'], lw = 0, cmap = palette)\n",
    "ax3.set_xlim([-0.6, 0.8])\n",
    "ax3.set_ylim([-20, 90])\n",
    "ax3.set_title('July 2012', fontsize = 16)\n",
    "ax3.tick_params(labelsize = 14)\n",
    "ax3.set_xlabel('Sea Level Anomaly', fontsize = 16)\n",
    "\n",
    "plt.show()\n",
    "\n",
    "#fig1.savefig('../figures/NCP_SLA_scatter.png', dpi = 300)"
   ]
  },
  {
   "cell_type": "code",
   "execution_count": null,
   "metadata": {
    "collapsed": false
   },
   "outputs": [],
   "source": [
    "# make a 3 panel plot showing the relationship for each cruise between SLA and NCP\n",
    "\n",
    "# fig2, (ax1, ax2, ax3) = plt.subplots(1, 3, figsize = (12, 4), dpi = 300)\n",
    "fig2, (ax1, ax3) = plt.subplots(1, 2, figsize = (12, 6), dpi = 300)\n",
    "\n",
    "\n",
    "ax1.plot(Tok1['Lat'], Tok1['Air-sea flux'], '.k', lw = 0, markersize = 10)\n",
    "ax1.set_xlim([32, 46])\n",
    "ax1.set_ylim([-20, 90])\n",
    "ax1.set_ylabel('Net Community Production', fontsize=16)\n",
    "ax1.set_title('May 2011', fontsize = 16)\n",
    "ax1.tick_params(labelsize = 14)\n",
    "\n",
    "# ax2.plot(Tok3['Lat'], Tok3['Air-sea flux'], '.k', lw = 0, markersize = 10)\n",
    "# ax2.set_xlim([32, 46])\n",
    "# ax2.set_ylim([-20, 90])\n",
    "# ax2.set_xlabel('Latitude ($^o$)', fontsize=16)\n",
    "# ax2.set_title('September 2011', fontsize = 16)\n",
    "# ax2.tick_params(labelsize = 14)\n",
    "\n",
    "ax3.plot(Tian['Lat'], Tian['Air-sea flux'], '.k', lw = 0, markersize = 10)\n",
    "ax3.set_xlim([32, 46])\n",
    "ax3.set_ylim([-20, 90])\n",
    "ax3.set_title('July 2012', fontsize = 16)\n",
    "ax3.tick_params(labelsize = 14)\n",
    "\n",
    "plt.show()\n",
    "\n",
    "#fig2.savefig('../figures/NCP_LAT_scatter.png', dpi = 300)"
   ]
  },
  {
   "cell_type": "code",
   "execution_count": null,
   "metadata": {
    "collapsed": true
   },
   "outputs": [],
   "source": []
  }
 ],
 "metadata": {
  "kernelspec": {
   "display_name": "Python 2",
   "language": "python",
   "name": "python2"
  },
  "language_info": {
   "codemirror_mode": {
    "name": "ipython",
    "version": 2
   },
   "file_extension": ".py",
   "mimetype": "text/x-python",
   "name": "python",
   "nbconvert_exporter": "python",
   "pygments_lexer": "ipython2",
   "version": "2.7.11"
  }
 },
 "nbformat": 4,
 "nbformat_minor": 0
}
