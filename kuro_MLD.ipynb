{
 "cells": [
  {
   "cell_type": "code",
   "execution_count": 20,
   "metadata": {
    "collapsed": false
   },
   "outputs": [],
   "source": [
    "% matplotlib inline\n",
    "\n",
    "import numpy as np\n",
    "import pandas as pd\n",
    "import matplotlib.pyplot as plt\n",
    "from netCDF4 import Dataset\n",
    "import glob\n",
    "import numpy.ma as ma\n",
    "from matplotlib import gridspec"
   ]
  },
  {
   "cell_type": "code",
   "execution_count": 23,
   "metadata": {
    "collapsed": false
   },
   "outputs": [
    {
     "name": "stdout",
     "output_type": "stream",
     "text": [
      "(341, 720, 12)\n"
     ]
    }
   ],
   "source": [
    "# import the MIMOC MLD data\n",
    "\n",
    "files = glob.glob('../data/mimoc/MIMOC_ML_v2.2_PT_S/*.nc')\n",
    "\n",
    "mld = np.zeros((341, 720, 12))\n",
    "\n",
    "for m in range(12):\n",
    "    mimoc = Dataset(files[m], mode='r')\n",
    "    mld[:,:,m]= mimoc.variables['DEPTH_MIXED_LAYER'][:]\n",
    "    lons = mimoc.variables['LONGITUDE'][:]\n",
    "    lats = mimoc.variables['LATITUDE'][:]\n",
    "\n",
    "lon, lat = np.meshgrid(lons, lats)\n",
    "\n",
    "print np.shape(mld)"
   ]
  },
  {
   "cell_type": "code",
   "execution_count": 56,
   "metadata": {
    "collapsed": false
   },
   "outputs": [],
   "source": [
    "# make a timeseries of mean mld over the study region\n",
    "\n",
    "mld_kuro = np.zeros(12)\n",
    "\n",
    "x,y = np.where((lon>=140) & (lon<=170) & (lat>=35) & (lat<=45))\n",
    "\n",
    "\n",
    "for m in range(12):\n",
    "    tmp = mld[x,y,m]\n",
    "    mld_kuro[m] = np.nanmean(tmp)"
   ]
  },
  {
   "cell_type": "code",
   "execution_count": 62,
   "metadata": {
    "collapsed": false
   },
   "outputs": [
    {
     "data": {
      "image/png": "[encoded data removed]",
      "text/plain": [
       "<matplotlib.figure.Figure at 0x11edc0d90>"
      ]
     },
     "metadata": {},
     "output_type": "display_data"
    }
   ],
   "source": [
    "plt.plot(np.arange(1,13,1), mld_kuro)\n",
    "plt.plot(5, mld_kuro[4],'ko', 9, mld_kuro[8],'ko')\n",
    "plt.axis([0.5, 12.5, 10, 100])\n",
    "plt.xlabel('month')\n",
    "plt.ylabel('MLD (m)')\n",
    "plt.show()"
   ]
  },
  {
   "cell_type": "code",
   "execution_count": null,
   "metadata": {
    "collapsed": true
   },
   "outputs": [],
   "source": []
  }
 ],
 "metadata": {
  "kernelspec": {
   "display_name": "Python 2",
   "language": "python",
   "name": "python2"
  },
  "language_info": {
   "codemirror_mode": {
    "name": "ipython",
    "version": 2
   },
   "file_extension": ".py",
   "mimetype": "text/x-python",
   "name": "python",
   "nbconvert_exporter": "python",
   "pygments_lexer": "ipython2",
   "version": "2.7.11"
  }
 },
 "nbformat": 4,
 "nbformat_minor": 0
}
