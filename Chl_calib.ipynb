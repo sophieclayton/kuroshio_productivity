{
 "cells": [
  {
   "cell_type": "code",
   "execution_count": 27,
   "metadata": {
    "collapsed": false
   },
   "outputs": [],
   "source": [
    "% matplotlib inline\n",
    "import numpy as np\n",
    "import pandas as pd\n",
    "import matplotlib.pyplot as plt\n",
    "import scipy.stats as ss\n",
    "\n",
    "import gsw as sw\n",
    "from mpl_toolkits.basemap import Basemap, cm, interp"
   ]
  },
  {
   "cell_type": "code",
   "execution_count": 2,
   "metadata": {
    "collapsed": false
   },
   "outputs": [
    {
     "name": "stdout",
     "output_type": "stream",
     "text": [
      "Index([u'Timestamp', u'Lat', u'Lon', u'S', u'T', u'Fluo', u'TrueO2Ar',\n",
      "       u'O2Arsat', u'O2Arbiosat', u'MLD (WOA13)', u'Wkn', u'Air-sea flux',\n",
      "       u'density'],\n",
      "      dtype='object')\n"
     ]
    }
   ],
   "source": [
    "# import data\n",
    "\n",
    "maxlon = 171\n",
    "minlon = 129\n",
    "\n",
    "Tok1 = pd.read_csv(r'/Users/sclayton/Google Drive/o2ar_data/Tokyo1_vSept16.csv', sep = ',')\n",
    "Tok1['density'] = sw.rho(Tok1['S'].values,Tok1['T'].values,0)\n",
    "Tok1 = Tok1[(Tok1['Lon']>minlon) & (Tok1['Lon']<maxlon)]\n",
    "\n",
    "Tok1['dlat'] = np.insert(np.diff(Tok1['Lat']), 0, 0)\n",
    "Tok1 = Tok1[np.abs(Tok1['dlat'])<0.08]\n",
    "\n",
    "\n",
    "Tok3 = pd.read_csv(r'/Users/sclayton/Google Drive/o2ar_data/Tokyo3_vSept16.csv', sep = ',')\n",
    "Tok3['density'] = sw.rho(Tok3['S'].values,Tok3['T'].values,0)\n",
    "Tok3 = Tok3[(Tok3['Lon']>minlon) & (Tok3['Lon']<maxlon)]\n",
    "\n",
    "Tian = pd.read_csv(r'/Users/sclayton/Google Drive/o2ar_data/Tianjin2_vSept16.csv', sep = ',')\n",
    "Tian['density'] = sw.rho(Tian['S'].values,Tian['T'].values,0)\n",
    "Tian = Tian[(Tian['Lon']>minlon) & (Tian['Lon']<maxlon)]\n",
    "\n",
    "print Tian.columns"
   ]
  },
  {
   "cell_type": "code",
   "execution_count": 33,
   "metadata": {
    "collapsed": false
   },
   "outputs": [
    {
     "name": "stdout",
     "output_type": "stream",
     "text": [
      "estimated calibration slope =  0.75079990487 , r =  0.366448680395 , p-value < 0.05  True\n"
     ]
    },
    {
     "name": "stderr",
     "output_type": "stream",
     "text": [
      "/Users/sclayton/anaconda/lib/python2.7/site-packages/ipykernel/__main__.py:6: SettingWithCopyWarning: \n",
      "A value is trying to be set on a copy of a slice from a DataFrame.\n",
      "Try using .loc[row_indexer,col_indexer] = value instead\n",
      "\n",
      "See the caveats in the documentation: http://pandas.pydata.org/pandas-docs/stable/indexing.html#indexing-view-versus-copy\n"
     ]
    },
    {
     "data": {
      "image/png": "[encoded data removed]",
      "text/plain": [
       "<matplotlib.figure.Figure at 0x116c634d0>"
      ]
     },
     "metadata": {},
     "output_type": "display_data"
    }
   ],
   "source": [
    "# import calibration data\n",
    "\n",
    "calib = pd.read_csv(r'/Users/sclayton/Google Drive/o2ar_data/Discrete_ChlO2Ar_ForSophie.csv', sep = ',')\n",
    "\n",
    "subTok1 = calib[calib['Cruise ID']=='Tokyo_1']\n",
    "subTok1['Fluo'] = np.interp(subTok1['Chlorophyll Date/Time'],Tok1['Timestamp'], Tok1['Fluo'])\n",
    "subTok1 = subTok1.dropna()\n",
    "\n",
    "plt.plot(subTok1['Fluo'],subTok1['[Chl] (ug/L)'], 'o')\n",
    "plt.xlabel('discrete chl')\n",
    "plt.ylabel('fluorescence')\n",
    "\n",
    "mT,cT, rT, pT, std_errT = ss.linregress(subTok1['Fluo'],subTok1['[Chl] (ug/L)'])\n",
    "plt.plot(np.arange(-0.1, 0.8, 0.1), mT*(np.arange(-0.1, 0.8, 0.1))+cT, 'r')\n",
    "\n",
    "print 'estimated calibration slope = ', mT, ', r = ', rT, ', p-value < 0.05 ', pT<0.05\n",
    "\n",
    "plt.show()"
   ]
  },
  {
   "cell_type": "code",
   "execution_count": 35,
   "metadata": {
    "collapsed": false
   },
   "outputs": [
    {
     "name": "stdout",
     "output_type": "stream",
     "text": [
      "estimated calibration slope =  0.191463573087 , r =  0.353188428153 , p-value < 0.05  True\n"
     ]
    },
    {
     "name": "stderr",
     "output_type": "stream",
     "text": [
      "/Users/sclayton/anaconda/lib/python2.7/site-packages/ipykernel/__main__.py:3: SettingWithCopyWarning: \n",
      "A value is trying to be set on a copy of a slice from a DataFrame.\n",
      "Try using .loc[row_indexer,col_indexer] = value instead\n",
      "\n",
      "See the caveats in the documentation: http://pandas.pydata.org/pandas-docs/stable/indexing.html#indexing-view-versus-copy\n",
      "  app.launch_new_instance()\n"
     ]
    },
    {
     "data": {
      "image/png": "[encoded data removed]",
      "text/plain": [
       "<matplotlib.figure.Figure at 0x118103dd0>"
      ]
     },
     "metadata": {},
     "output_type": "display_data"
    }
   ],
   "source": [
    "# import calibration data\n",
    "subTok3 = calib[calib['Cruise ID']=='Tokyo_3']\n",
    "subTok3['Fluo'] = np.interp(subTok3['Chlorophyll Date/Time'],Tok3['Timestamp'], Tok3['Fluo'])\n",
    "subTok3 = subTok3.dropna()\n",
    "\n",
    "plt.plot(subTok3['Fluo'], subTok3['[Chl] (ug/L)'], 'o')\n",
    "plt.xlabel('discrete chl')\n",
    "plt.ylabel('fluorescence')\n",
    "\n",
    "mT,cT, rT, pT, std_errT = ss.linregress(subTok3['Fluo'], subTok3['[Chl] (ug/L)'])\n",
    "plt.plot(np.arange(-0.1, 0.8, 0.1), mT*(np.arange(-0.1, 0.8, 0.1))+cT, 'r')\n",
    "\n",
    "print 'estimated calibration slope = ', mT, ', r = ', rT, ', p-value < 0.05 ', pT<0.05\n",
    "\n",
    "plt.show()"
   ]
  },
  {
   "cell_type": "code",
   "execution_count": 36,
   "metadata": {
    "collapsed": false
   },
   "outputs": [
    {
     "name": "stdout",
     "output_type": "stream",
     "text": [
      "estimated calibration slope =  0.460387384179 , r =  0.233707825993 , p-value < 0.05  False\n"
     ]
    },
    {
     "name": "stderr",
     "output_type": "stream",
     "text": [
      "/Users/sclayton/anaconda/lib/python2.7/site-packages/ipykernel/__main__.py:5: SettingWithCopyWarning: \n",
      "A value is trying to be set on a copy of a slice from a DataFrame.\n",
      "Try using .loc[row_indexer,col_indexer] = value instead\n",
      "\n",
      "See the caveats in the documentation: http://pandas.pydata.org/pandas-docs/stable/indexing.html#indexing-view-versus-copy\n"
     ]
    },
    {
     "data": {
      "image/png": "[encoded data removed]",
      "text/plain": [
       "<matplotlib.figure.Figure at 0x116e46210>"
      ]
     },
     "metadata": {},
     "output_type": "display_data"
    }
   ],
   "source": [
    "# import calibration data\n",
    "\n",
    "\n",
    "subT = calib[calib['Cruise ID']=='Tianjin_2']\n",
    "subT['Fluo'] = np.interp(subT['Date/Time'],Tian['Timestamp'], Tian['Fluo'])\n",
    "subT = subT.dropna()\n",
    "\n",
    "plt.plot(subT['Fluo'], subT['[Chl] (ug/L)'],'o')\n",
    "plt.xlabel('discrete chl')\n",
    "plt.ylabel('fluorescence')\n",
    "\n",
    "mT,cT, rT, pT, std_errT = ss.linregress(subT['Fluo'], subT['[Chl] (ug/L)'])\n",
    "plt.plot(np.arange(-0.1, 0.8, 0.1), mT*(np.arange(-0.1, 0.8, 0.1))+cT, 'r')\n",
    "\n",
    "print 'estimated calibration slope = ', mT, ', r = ', rT, ', p-value < 0.05 ', pT<0.05\n",
    "\n",
    "plt.show()"
   ]
  },
  {
   "cell_type": "code",
   "execution_count": null,
   "metadata": {
    "collapsed": true
   },
   "outputs": [],
   "source": []
  }
 ],
 "metadata": {
  "kernelspec": {
   "display_name": "Python 2",
   "language": "python",
   "name": "python2"
  },
  "language_info": {
   "codemirror_mode": {
    "name": "ipython",
    "version": 2
   },
   "file_extension": ".py",
   "mimetype": "text/x-python",
   "name": "python",
   "nbconvert_exporter": "python",
   "pygments_lexer": "ipython2",
   "version": "2.7.11"
  }
 },
 "nbformat": 4,
 "nbformat_minor": 0
}
