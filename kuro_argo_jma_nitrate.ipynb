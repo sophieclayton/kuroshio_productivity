{
 "cells": [
  {
   "cell_type": "code",
   "execution_count": 1,
   "metadata": {
    "collapsed": false
   },
   "outputs": [
    {
     "name": "stderr",
     "output_type": "stream",
     "text": [
      "/Users/archie/anaconda/lib/python2.7/site-packages/pandas/computation/__init__.py:19: UserWarning: The installed version of numexpr 2.4.4 is not supported in pandas and will be not be used\n",
      "\n",
      "  UserWarning)\n"
     ]
    }
   ],
   "source": [
    "% matplotlib inline\n",
    "import numpy as np\n",
    "import pandas as pd\n",
    "import matplotlib.pyplot as plt\n",
    "from netCDF4 import Dataset\n",
    "import glob\n",
    "import numpy.ma as ma\n",
    "from matplotlib import gridspec\n",
    "\n",
    "import gsw as sw\n",
    "from mpl_toolkits.basemap import Basemap, cm, interp\n",
    "\n",
    "from matplotlib import rcParams\n",
    "rcParams.update({'figure.autolayout': True})\n",
    "rcParams.update({'font.family': 'serif'})\n",
    "rcParams.update({'font.serif': 'Times New Roman'})"
   ]
  },
  {
   "cell_type": "code",
   "execution_count": 2,
   "metadata": {
    "collapsed": false
   },
   "outputs": [
    {
     "name": "stdout",
     "output_type": "stream",
     "text": [
      "203\n",
      "12179\n",
      "Index([u'Date/GMT', u'Days since 1/1/1900', u'NITRATE[UMOL/KG]', u'DEPTH[M]',\n",
      "       u'PRESSURE[DBAR]', u'MON/DAY/YR', u'SALINITY[PSS]', u'TEMPERATURE[C]',\n",
      "       u'SIGMA_THETA[KG/M^3]', u'OXYGEN[UMOL/KG]', u'OXYGENSAT[%]', u'LON',\n",
      "       u'LAT', u'MONTH'],\n",
      "      dtype='object')\n"
     ]
    }
   ],
   "source": [
    "# import mitrate data\n",
    "\n",
    "argo = pd.read_csv('../data/argo/7546KUROSHIOQC.txt', sep = ',')\n",
    "argo2 = pd.read_csv('../data/argo/7674KUROSHIOQC.txt', sep = ',')\n",
    "\n",
    "argo = argo.append(argo2,ignore_index=True)\n",
    "\n",
    "month = []\n",
    "for n in range(len(argo)):\n",
    "    month.append(np.int(str(argo['Date/GMT'][n]).split('/')[0].lstrip('0   ')))\n",
    "\n",
    "argo['MONTH'] = month\n",
    "\n",
    "\n",
    "argo = argo[(argo['LON']>130) & (argo['LON']<170) & (argo['LAT']>30) & (argo['LAT']<45) & (argo['MONTH']>3) & (argo['MONTH']<11)]\n",
    "print len(pd.unique(argo['Days since 1/1/1900']))\n",
    "\n",
    "print len(argo)\n",
    "print argo.columns"
   ]
  },
  {
   "cell_type": "code",
   "execution_count": null,
   "metadata": {
    "collapsed": false
   },
   "outputs": [
    {
     "name": "stdout",
     "output_type": "stream",
     "text": [
      "JMA profiles in dataset 351\n",
      "14360 2181 12179\n"
     ]
    }
   ],
   "source": [
    "# read in JMA nutrient data\n",
    "\n",
    "jma = pd.read_csv('../data/jma_nitrate.csv',sep=',')\n",
    "jma['depth'] = jma['depth']*-1\n",
    "jma = jma[(jma['lon']>140)& (jma['depth']>-150) & (jma['month']>3) & (jma['month']<11)]\n",
    "\n",
    "print 'JMA profiles in dataset', len(pd.unique(jma['profile']))\n",
    "\n",
    "argo = argo.rename(columns={'NITRATE[UMOL/KG]':'nitrate', 'DEPTH[M]':'depth', 'SALINITY[PSS]':'sal', 'SIGMA_THETA[KG/M^3]':'density', 'MONTH':'month', 'LAT':'lat','LON':'lon'})                       \n",
    "allnuts = jma.append(argo[['nitrate','depth','lat','lon','density','month']] )\n",
    "\n",
    "print len(allnuts), len(jma), len(argo)"
   ]
  },
  {
   "cell_type": "code",
   "execution_count": null,
   "metadata": {
    "collapsed": false
   },
   "outputs": [],
   "source": [
    "# bin the nitrate data into sigma vs latitude bins\n",
    "\n",
    "subset = allnuts[(allnuts['depth']>-150) & (allnuts['month']>3) & (allnuts['month']<11)] \n",
    "\n",
    "dy = 0.125\n",
    "dx = 1./3\n",
    "\n",
    "ybin = np.arange(21., 27., dy)\n",
    "xbin = np.arange(30., 45., dx)\n",
    "\n",
    "xgrid, ygrid = np.meshgrid(xbin, ybin, sparse=False, indexing='ij')\n",
    "\n",
    "binned = np.empty([len(xbin), len(ybin)])\n",
    "numobs = np.empty([len(xbin), len(ybin)])\n",
    "binnedstd = np.empty([len(xbin), len(ybin)])\n",
    "fvar = 'nitrate'\n",
    "\n",
    "for i in range(len(xbin)):\n",
    "    lat = xbin[i]\n",
    "    for j in range(len(ybin)):\n",
    "        sig = ybin[j]\n",
    "\n",
    "        nn = len(subset.loc[((subset['lat']>lat-dx/2) & (subset['lat']<lat +dx/2) & (subset['density']>sig -dy/2)\n",
    "                                        & (subset['density']<sig +dy/2)), fvar].values)\n",
    "\n",
    "        if nn > 0:\n",
    "            binned[i,j] = np.nanmean(subset.loc[((subset['lat']>lat-dx/2) & (subset['lat']<lat +dx/2) & (subset['density']>sig -dy/2)\n",
    "                                        & (subset['density']<sig +dy/2)), fvar].values)\n",
    "            binnedstd[i,j] = np.nanstd(subset.loc[((subset['lat']>lat-dx/2) & (subset['lat']<lat +dx/2) & (subset['density']>sig -dy/2)\n",
    "                                        & (subset['density']<sig +dy/2)), fvar].values)\n",
    "            numobs[i,j] = nn\n",
    "        else:\n",
    "            binned[i,j] = np.nan\n",
    "            binnedstd[i,j] = np.nan\n",
    "            numobs[i,j] = 0\n"
   ]
  },
  {
   "cell_type": "code",
   "execution_count": null,
   "metadata": {
    "collapsed": false
   },
   "outputs": [],
   "source": [
    "fig1 = plt.figure(1, figsize=(5,5), dpi = 300)\n",
    "#plt.scatter(subset['LAT'],subset['SIGMA_THETA[KG/M^3]'], c = subset['NITRATE[UMOL/KG]'], s=200, vmin = 0, vmax = 8, lw=0, alpha = 0.75)\n",
    "\n",
    "palette = plt.get_cmap('RdYlBu_r', 16)\n",
    "\n",
    "binned = ma.masked_where(np.isnan(binned), binned)\n",
    "binnedstd = ma.masked_where(np.isnan(binnedstd), binnedstd)\n",
    "\n",
    "plt.pcolor(xgrid, ygrid, binned, vmin = 0, vmax = 8, lw=0, cmap = palette)\n",
    "# print len(pd.unique(subset['Days since 1/1/1900']))\n",
    "\n",
    "#plt.contour()\n",
    "cb = plt.colorbar(ticks = range(0, 9))\n",
    "cb.set_label('Nitrate (umol kg$^{-1}$)', fontsize = 16)\n",
    "#cb.set_label('Nitrate C.V.', fontsize = 20)\n",
    "plt.gca().invert_yaxis()\n",
    "plt.axis([ 30,44, 26.5, 22.0])\n",
    "\n",
    "#plt.axhline(23.5, color='grey', lw=2)\n",
    "#plt.axhline(25, color='grey', lw=2) \n",
    "\n",
    "#plt.axvline(32.66, color='grey', lw=2)\n",
    "#plt.axvline(34.66, color='grey', lw=2) \n",
    "\n",
    "plt.ylabel(r'$\\sigma_{\\Theta}$', fontsize = 16)\n",
    "plt.xlabel('Latitude', fontsize = 16)\n",
    "plt.tick_params(labelsize=16)\n",
    "cb.ax.tick_params(labelsize=16)\n",
    "\n",
    "plt.show()\n",
    "\n",
    "#fig1.savefig('../figures/kuro_argo_no3_binned.png', dpi=300)"
   ]
  },
  {
   "cell_type": "code",
   "execution_count": null,
   "metadata": {
    "collapsed": false
   },
   "outputs": [],
   "source": [
    "fig1 = plt.figure(1, figsize=(8,8))\n",
    "#plt.scatter(subset['LAT'],subset['SIGMA_THETA[KG/M^3]'], c = subset['NITRATE[UMOL/KG]'], s=200, vmin = 0, vmax = 8, lw=0, alpha = 0.75)\n",
    "\n",
    "palette = plt.get_cmap('RdYlBu_r', 16)\n",
    "\n",
    "numobs = ma.masked_where(np.isnan(binned), numobs)\n",
    "\n",
    "plt.pcolor(xgrid, ygrid, numobs, vmin = 0, vmax = 60, lw=0, cmap = palette)\n",
    "# print len(pd.unique(subset['Days since 1/1/1900']))\n",
    "\n",
    "#plt.contour()\n",
    "cb = plt.colorbar(ticks = range(0, 61,5))\n",
    "cb.set_label('number of observations', fontsize = 20)\n",
    "plt.gca().invert_yaxis()\n",
    "plt.axis([ 30,44, 26.5, 22.0])\n",
    "\n",
    "#plt.axhline(23.5, color='grey', lw=2)\n",
    "#plt.axhline(25, color='grey', lw=2) \n",
    "\n",
    "#plt.axvline(32.66, color='grey', lw=2)\n",
    "#plt.axvline(34.66, color='grey', lw=2) \n",
    "\n",
    "plt.ylabel(r'$\\sigma_{\\Theta}$', fontsize = 20)\n",
    "plt.xlabel('Latitude', fontsize = 20)\n",
    "plt.tick_params(labelsize=20)\n",
    "cb.ax.tick_params(labelsize=20)\n",
    "\n",
    "plt.show()\n",
    "\n",
    "#fig1.savefig('../figures/kuro_argo_no3_binned.png', bbox_inches='tight', dpi=300)"
   ]
  },
  {
   "cell_type": "code",
   "execution_count": null,
   "metadata": {
    "collapsed": false
   },
   "outputs": [],
   "source": [
    "days = pd.unique(argo['Days since 1/1/1900'])\n",
    "\n",
    "fig1 = plt.figure(figsize=(12, 5))\n",
    "\n",
    "gs = gridspec.GridSpec(1, 2, width_ratios=[1.75, 1.25]) \n",
    "ax1 = plt.subplot(gs[0])\n",
    "\n",
    "m = Basemap(projection='merc',llcrnrlat=30,urcrnrlat=45.05,\\\n",
    "            llcrnrlon=130,urcrnrlon=170,lat_ts=0,resolution='c', ax = ax1)\n",
    "\n",
    "m.drawcoastlines()\n",
    "m.drawmapboundary(fill_color='white')\n",
    "m.fillcontinents(color='black',lake_color='white')\n",
    "\n",
    "for d in days:\n",
    "    subsetd = argo[argo['Days since 1/1/1900']==d]\n",
    "    x, y = m(subsetd['lon'].values, subsetd['lat'].values)\n",
    "    if d == days[0]:\n",
    "        m.plot(x, y, '.-', color = 'r', label = 'ARGO (n = 203 profiles)')\n",
    "    else:\n",
    "        m.plot(x, y, '.-', color = 'r')\n",
    "    \n",
    "xx,yy = m(jma['lon'].values,jma['lat'].values)\n",
    "m.plot(xx, yy, '.',color='k', label = 'JMA (n = 351 profiles)')\n",
    "    \n",
    "m.drawparallels(np.arange(-50,80,5),labels=[1,0,0,1], fontsize=16)\n",
    "m.drawmeridians(np.arange(-180,180,5),labels=[0,0,0,1], fontsize=16)\n",
    "\n",
    "plt.tick_params(axis='both', which='major', labelsize=16)\n",
    "plt.tick_params(axis='both', which='minor', labelsize=16)\n",
    "plt.xlabel('Longitude', fontsize = 16, labelpad = 20)\n",
    "plt.ylabel('Latitude', fontsize = 16, labelpad = 40)\n",
    "\n",
    "ax1.set_title('(a) Nitrate data points', fontsize = 16)\n",
    "leg = ax1.legend(loc = 'upper right')\n",
    "leg.get_frame().set_facecolor('white')\n",
    "\n",
    "ax2 = plt.subplot(gs[1])\n",
    "\n",
    "palette = plt.get_cmap('RdYlBu_r', 16)\n",
    "cb = ax2.pcolor(xgrid, ygrid, binned, vmin = 0, vmax = 8, lw=0, cmap = palette)\n",
    "#plt.contour()\n",
    "fig1.colorbar(cb, ax=ax2, ticks = range(0, 9))\n",
    "\n",
    "ax2.invert_yaxis()\n",
    "ax2.set_xlim([30, 43])\n",
    "ax2.set_ylim([26.5, 22.0])\n",
    "\n",
    "#plt.axhline(23.5, color='grey', lw=2)\n",
    "#plt.axhline(25, color='grey', lw=2) \n",
    "\n",
    "#plt.axvline(32.66, color='grey', lw=2)\n",
    "#plt.axvline(34.66, color='grey', lw=2) \n",
    "\n",
    "ax2.set_ylabel(r'$\\sigma_{\\Theta}$', fontsize = 16)\n",
    "ax2.set_xlabel('Latitude', fontsize = 16)\n",
    "\n",
    "\n",
    "ax2.set_title('(b) Nitrate (umol kg$^{-1}$)', fontsize = 16)\n",
    "ax2.tick_params(labelsize=16)\n",
    "\n",
    "plt.show()\n",
    "\n",
    "fig1.savefig('../manuscript/Figure5b.png', dpi=300)"
   ]
  },
  {
   "cell_type": "code",
   "execution_count": null,
   "metadata": {
    "collapsed": true
   },
   "outputs": [],
   "source": []
  }
 ],
 "metadata": {
  "kernelspec": {
   "display_name": "Python 2",
   "language": "python",
   "name": "python2"
  },
  "language_info": {
   "codemirror_mode": {
    "name": "ipython",
    "version": 2
   },
   "file_extension": ".py",
   "mimetype": "text/x-python",
   "name": "python",
   "nbconvert_exporter": "python",
   "pygments_lexer": "ipython2",
   "version": "2.7.12"
  }
 },
 "nbformat": 4,
 "nbformat_minor": 0
}
