{
 "cells": [
  {
   "cell_type": "code",
   "execution_count": 1,
   "metadata": {
    "collapsed": false
   },
   "outputs": [
    {
     "name": "stderr",
     "output_type": "stream",
     "text": [
      "/Users/sclayton/anaconda/lib/python2.7/site-packages/matplotlib/font_manager.py:273: UserWarning: Matplotlib is building the font cache using fc-list. This may take a moment.\n",
      "  warnings.warn('Matplotlib is building the font cache using fc-list. This may take a moment.')\n"
     ]
    }
   ],
   "source": [
    "% matplotlib inline\n",
    "import numpy as np\n",
    "import pandas as pd\n",
    "import matplotlib.pyplot as plt\n",
    "import numpy.ma as ma\n",
    "\n",
    "import gsw as sw\n",
    "from mpl_toolkits.basemap import Basemap, cm, interp\n",
    "\n",
    "from matplotlib import rcParams\n",
    "rcParams.update({'figure.autolayout': True})\n",
    "rcParams.update({'font.family': 'serif'})\n",
    "rcParams.update({'font.serif': 'Times New Roman'})"
   ]
  },
  {
   "cell_type": "code",
   "execution_count": 25,
   "metadata": {
    "collapsed": false
   },
   "outputs": [
    {
     "name": "stdout",
     "output_type": "stream",
     "text": [
      "Index([u'Timestamp', u'Lat', u'Lon', u'S', u'T', u'Fluo', u'TrueO2Ar',\n",
      "       u'O2Arsat', u'O2Arbiosat', u'MLD (WOA13)', u'Wkn', u'Air-sea flux',\n",
      "       u'density'],\n",
      "      dtype='object')\n"
     ]
    }
   ],
   "source": [
    "# import data\n",
    "\n",
    "minlon = 130\n",
    "maxlon = 171\n",
    "\n",
    "Tok1 = pd.read_csv(r'/Users/sclayton/Google Drive/o2ar_data/Tokyo1_vSept16.csv', sep = ',')\n",
    "Tok1['density'] = sw.rho(Tok1['S'].values,Tok1['T'].values,0)-1000\n",
    "Tok1 = Tok1[(Tok1['Lon']>minlon) & (Tok1['Lon']<maxlon)]\n",
    "\n",
    "Tok2 = pd.read_csv(r'/Users/sclayton/Google Drive/o2ar_data/Tokyo2_vSept16.csv', sep = ',')\n",
    "Tok2['density'] = sw.rho(Tok2['S'].values,Tok2['T'].values,0)-1000\n",
    "Tok2 = Tok2[(Tok2['Lon']>minlon) & (Tok2['Lon']<maxlon)]\n",
    "\n",
    "Tok3 = pd.read_csv(r'/Users/sclayton/Google Drive/o2ar_data/Tokyo3_vSept16.csv', sep = ',')\n",
    "Tok3['density'] = sw.rho(Tok3['S'].values,Tok3['T'].values,0)-1000\n",
    "Tok3 = Tok3[(Tok3['Lon']>minlon) & (Tok3['Lon']<maxlon)]\n",
    "\n",
    "Tian = pd.read_csv(r'/Users/sclayton/Google Drive/o2ar_data/Tianjin2_vSept16.csv', sep = ',')\n",
    "Tian['density'] = sw.rho(Tian['S'].values,Tian['T'].values,0)-1000\n",
    "Tian = Tian[(Tian['Lon']>minlon) & (Tian['Lon']<maxlon)]\n",
    "\n",
    "print Tian.columns\n",
    "\n",
    "# combine into mega dataset\n",
    "data = pd.concat([Tok1, Tok2, Tok3, Tian], ignore_index = True)"
   ]
  },
  {
   "cell_type": "code",
   "execution_count": 26,
   "metadata": {
    "collapsed": false
   },
   "outputs": [],
   "source": [
    "subset = data \n",
    "\n",
    "# bin the nitrate data into sigma vs latitude bins\n",
    "\n",
    "dy = 0.5\n",
    "dx = 0.5\n",
    "\n",
    "ybin = np.arange(21., 27., dy)\n",
    "xbin = np.arange(30., 45., dx)\n",
    "\n",
    "xgrid, ygrid = np.meshgrid(xbin, ybin, sparse=False, indexing='ij')\n",
    "\n",
    "binned = np.empty([len(xbin), len(ybin)])\n",
    "binnedstd = np.empty([len(xbin), len(ybin)])\n",
    "fvar = 'Air-sea flux'\n",
    "\n",
    "for i in range(len(xbin)):\n",
    "    lat = xbin[i]\n",
    "    for j in range(len(ybin)):\n",
    "        sig = ybin[j]\n",
    "\n",
    "        nn = len(subset.loc[((subset['Lat']>lat-dx/2) & (subset['Lat']<lat +dx/2) & (subset['density']>sig -dy/2)\n",
    "                                        & (subset['density']<sig +dy/2)), fvar].values)\n",
    "\n",
    "        if nn > 0:\n",
    "            binned[i,j] = np.nanmean(subset.loc[((subset['Lat']>lat-dx/2) & (subset['Lat']<lat +dx/2) & (subset['density']>sig -dy/2)\n",
    "                                        & (subset['density']<sig +dy/2)), fvar].values)\n",
    "            binnedstd[i,j] = np.nanstd(subset.loc[((subset['Lat']>lat-dx/2) & (subset['Lat']<lat +dx/2) & (subset['density']>sig -dy/2)\n",
    "                                        & (subset['density']<sig +dy/2)), fvar].values)\n",
    "        else:\n",
    "            binned[i,j] = np.nan\n",
    "            binnedstd[i,j] = np.nan\n"
   ]
  },
  {
   "cell_type": "code",
   "execution_count": 27,
   "metadata": {
    "collapsed": false
   },
   "outputs": [
    {
     "data": {
      "image/png": "[encoded data removed]",
      "text/plain": [
       "<matplotlib.figure.Figure at 0x1186099d0>"
      ]
     },
     "metadata": {},
     "output_type": "display_data"
    }
   ],
   "source": [
    "fig1 = plt.figure(1, figsize=(8,6))\n",
    "#plt.scatter(subset['LAT'],subset['SIGMA_THETA[KG/M^3]'], c = subset['NITRATE[UMOL/KG]'], s=200, vmin = 0, vmax = 8, lw=0, alpha = 0.75)\n",
    "\n",
    "palette = plt.get_cmap('RdYlBu_r', 9)\n",
    "\n",
    "binned = ma.masked_where(np.isnan(binned), binned)\n",
    "binnedstd = ma.masked_where(np.isnan(binnedstd), binnedstd)\n",
    "\n",
    "plt.pcolor(xgrid, ygrid, binned, vmin = -10, vmax = 80, lw=0, cmap = palette)\n",
    "\n",
    "\n",
    "#plt.contour()\n",
    "cb = plt.colorbar(ticks = range(-10, 81, 10))\n",
    "cb.set_label('NCP', fontsize = 20)\n",
    "#plt.gca().invert_yaxis()\n",
    "plt.axis([ 30,45, 26.5, 22.0])\n",
    "\n",
    "#plt.axhline(23.5, color='grey', lw=2)\n",
    "#plt.axhline(25, color='grey', lw=2) \n",
    "\n",
    "# plt.axvline(33., color='grey', lw=2)\n",
    "# plt.axvline(38, color='grey', lw=2) \n",
    "\n",
    "plt.ylabel(r'$\\sigma_{\\Theta}$', fontsize = 20)\n",
    "plt.xlabel('Latitude', fontsize = 20)\n",
    "plt.tick_params(labelsize=20)\n",
    "cb.ax.tick_params(labelsize=20)\n",
    "\n",
    "\n",
    "plt.show()\n",
    "\n",
    "fig1.savefig('../figures/kuro_argo_no3_binned_allcruises.png', bbox_inches='tight', dpi=600)"
   ]
  },
  {
   "cell_type": "code",
   "execution_count": null,
   "metadata": {
    "collapsed": false,
    "scrolled": false
   },
   "outputs": [],
   "source": [
    "# make T/S plots\n",
    "\n",
    "ss = np.arange(31, 36, 0.01)\n",
    "tt = np.arange(0, 30, 0.1)\n",
    "\n",
    "s, t = np.meshgrid(ss,tt, indexing='ij')\n",
    "den = sw.rho(s,t,0) - 1000\n",
    "\n",
    "#### Tokyo1 - May 2011\n",
    "fig2 = plt.figure(2, figsize = (10, 8), dpi = 600)\n",
    "\n",
    "palette = plt.get_cmap('RdYlBu_r', 20)\n",
    "levels = np.arange(20.0, 27.5, 0.5)\n",
    "CS = plt.contour(s, t, den, levels, colors= 'k', zorder = 0)\n",
    "\n",
    "class nf(float):\n",
    "    def __repr__(self):\n",
    "        str = '%.1f' % (self.__float__(),)\n",
    "        if str[-1] == '0':\n",
    "            return '%.0f' % self.__float__()\n",
    "        else:\n",
    "            return '%.1f' % self.__float__()\n",
    "\n",
    "# Recast levels to new class\n",
    "CS.levels = [nf(val) for val in CS.levels]\n",
    "\n",
    "# Label levels with specially formatted floats\n",
    "if plt.rcParams[\"text.usetex\"]:\n",
    "    fmt = r'%r'\n",
    "else:\n",
    "    fmt = '%r'\n",
    "plt.clabel(CS, CS.levels, inline=True, fmt=fmt, fontsize=14)\n",
    "\n",
    "#plt.clabel(CS, inline=1, fontsize=14)\n",
    "plt.scatter(Tok1['S'],Tok1['T'], s = 200, lw = 0, c = Tok1['Air-sea flux'], alpha = 0.75, vmin=-20, vmax = 80, cmap = palette, zorder =1)\n",
    "plt.scatter(Tok3['S'],Tok3['T'], s = 200, lw = 0, c = Tok3['Air-sea flux'], alpha = 0.75, vmin=-20, vmax = 80, cmap = palette, zorder =1)\n",
    "#plt.scatter(Tian['S'],Tian['T'], s = 200, lw = 0, c = Tian['Air-sea flux'], alpha = 0.75, vmin=-20, vmax = 80, cmap = palette, zorder =1)\n",
    "\n",
    "plt.axis([31, 35, 3, 30])\n",
    "plt.xlabel('Salinity', fontsize=20)\n",
    "plt.ylabel('Temperature', fontsize=20)\n",
    "plt.yticks(fontsize=20)\n",
    "plt.xticks(fontsize=20)\n",
    "cb = plt.colorbar()\n",
    "cb.ax.tick_params(labelsize=20)\n",
    "cb.set_label('NCP', fontsize=20)\n",
    "\n",
    "plt.show()\n",
    "\n",
    "#fig2.savefig('../figures/NCP_TS_May11_Sept11.png', bbox_inches='tight', dpi=600)\n",
    "\n",
    "\n",
    "print len(Tok1)+len(Tok3)\n"
   ]
  },
  {
   "cell_type": "code",
   "execution_count": null,
   "metadata": {
    "collapsed": false,
    "scrolled": true
   },
   "outputs": [],
   "source": [
    "#print Tok3[(Tok3['Lon']>155) & (Tok3['Lon']<160)]\n",
    "\n",
    "from datetime import datetime, timedelta\n",
    "\n",
    "matlab_datenum = 734771.2052\n",
    "python_datetime = datetime.fromordinal(int(matlab_datenum)) + timedelta(days=matlab_datenum%1) - timedelta(days = 366)\n",
    "\n",
    "print python_datetime\n"
   ]
  },
  {
   "cell_type": "code",
   "execution_count": null,
   "metadata": {
    "collapsed": false
   },
   "outputs": [],
   "source": [
    "fig5 = plt.figure(5, figsize = (12, 10), dpi = 600)\n",
    "\n",
    "plt.plot(Tok1['S'], Tok1['Air-sea flux']/np.mean(Tok1['Air-sea flux']), '.k', label = 'May 2011', markersize=10)\n",
    "plt.plot(Tok3['S'], Tok3['Air-sea flux']/np.mean(Tok3['Air-sea flux']), '.g', label = 'September 2011', markersize=10)\n",
    "plt.plot(Tian['S'], Tian['Air-sea flux']/np.mean(Tian['Air-sea flux']), '.y', label = 'July 2012', markersize=10)\n",
    "\n",
    "plt.legend(loc = 'upper left', fontsize =20)\n",
    "plt.axis([31,35,-2,10])\n",
    "plt.show()"
   ]
  },
  {
   "cell_type": "code",
   "execution_count": null,
   "metadata": {
    "collapsed": true
   },
   "outputs": [],
   "source": []
  },
  {
   "cell_type": "code",
   "execution_count": null,
   "metadata": {
    "collapsed": true
   },
   "outputs": [],
   "source": []
  }
 ],
 "metadata": {
  "kernelspec": {
   "display_name": "Python 2",
   "language": "python",
   "name": "python2"
  },
  "language_info": {
   "codemirror_mode": {
    "name": "ipython",
    "version": 2
   },
   "file_extension": ".py",
   "mimetype": "text/x-python",
   "name": "python",
   "nbconvert_exporter": "python",
   "pygments_lexer": "ipython2",
   "version": "2.7.11"
  }
 },
 "nbformat": 4,
 "nbformat_minor": 0
}
