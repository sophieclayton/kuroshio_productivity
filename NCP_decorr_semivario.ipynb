{
 "cells": [
  {
   "cell_type": "code",
   "execution_count": 1,
   "metadata": {
    "collapsed": false
   },
   "outputs": [
    {
     "name": "stderr",
     "output_type": "stream",
     "text": [
      "/Users/sclayton/anaconda/lib/python2.7/site-packages/matplotlib/font_manager.py:273: UserWarning: Matplotlib is building the font cache using fc-list. This may take a moment.\n",
      "  warnings.warn('Matplotlib is building the font cache using fc-list. This may take a moment.')\n"
     ]
    }
   ],
   "source": [
    "% matplotlib inline\n",
    "\n",
    "import numpy as np\n",
    "import pandas as pd\n",
    "from math import *\n",
    "import matplotlib.pyplot as plt\n",
    "from statsmodels.tsa.stattools import acf, ccf, acovf\n",
    "from statsmodels.tsa.tsatools import detrend\n",
    "from scipy.spatial.distance import pdist, squareform\n",
    "\n",
    "import gsw as sw\n",
    "\n",
    "from mpl_toolkits.basemap import Basemap, cm\n",
    "from netCDF4 import Dataset as NetCDFFile"
   ]
  },
  {
   "cell_type": "code",
   "execution_count": 2,
   "metadata": {
    "collapsed": true
   },
   "outputs": [],
   "source": [
    "def SVh( P, h, bw ):\n",
    "    '''\n",
    "    Experimental semivariogram for a single lag\n",
    "    '''\n",
    "    pd = squareform( pdist( P[:,:2] ) )\n",
    "    N = pd.shape[0]\n",
    "    Z = list()\n",
    "    for i in range(N):\n",
    "        for j in range(i+1,N):\n",
    "            if( pd[i,j] >= h-bw )and( pd[i,j] <= h+bw ):\n",
    "                Z.append( ( P[i,2] - P[j,2] )**2.0 )\n",
    "    return np.sum( Z ) / ( 2.0 * len( Z ) )\n",
    " \n",
    "def SV( P, hs, bw ):\n",
    "    '''\n",
    "    Experimental variogram for a collection of lags\n",
    "    '''\n",
    "    sv = list()\n",
    "    for h in hs:\n",
    "        sv.append( SVh( P, h, bw ) )\n",
    "    sv = [ [ hs[i], sv[i] ] for i in range( len( hs ) ) if sv[i] > 0 ]\n",
    "    return np.array( sv ).T\n",
    " \n",
    "def C( P, h, bw ):\n",
    "    '''\n",
    "    Calculate the sill\n",
    "    '''\n",
    "    c0 = np.var( P[:,2] )\n",
    "    if h == 0:\n",
    "        return c0\n",
    "    return c0 - SVh( P, h, bw )\n",
    "\n",
    "def opt( fct, x, y, C0, parameterRange=None, meshSize=1000 ):\n",
    "    if parameterRange == None:\n",
    "        parameterRange = [ x[1], x[-1] ]\n",
    "    mse = np.zeros( meshSize )\n",
    "    a = np.linspace( parameterRange[0], parameterRange[1], meshSize )\n",
    "    for i in range( meshSize ):\n",
    "        mse[i] = np.mean( ( y - fct( x, a[i], C0 ) )**2.0 )\n",
    "    return a[ mse.argmin() ]\n",
    "\n",
    "def spherical(h, a, C0):\n",
    "    '''\n",
    "    Spherical model of the semivariogram\n",
    "    '''\n",
    "    # if h is a single digit\n",
    "    if type(h) == np.float64:\n",
    "        # calculate the spherical function\n",
    "        if h <= a:\n",
    "            return C0*(1.5*(h/a) - (1/3)*((h**3.0)/(a**3.0)))\n",
    "        else:\n",
    "            return C0\n",
    "    # if h is an iterable\n",
    "    else:\n",
    "        # calculate the spherical function for all elements\n",
    "        a = np.ones( h.size ) * a\n",
    "        C0 = np.ones( h.size ) * C0\n",
    "        return map(spherical, h, a, C0)\n",
    "    \n",
    "def cvmodel(P, model, hs, bw):\n",
    "    '''\n",
    "    Input:  (P)      ndarray, data\n",
    "            (model)  modeling function\n",
    "                      - spherical\n",
    "                      - exponential\n",
    "                      - gaussian\n",
    "            (hs)     distances\n",
    "            (bw)     bandwidth\n",
    "    Output: (covfct) function modeling the covariance\n",
    "    '''\n",
    "    # calculate the semivariogram\n",
    "    sv = SV( P, hs, bw )\n",
    "    # calculate the sill\n",
    "    C0 = C(P, hs[0], bw)\n",
    "    # calculate the optimal parameters\n",
    "    param = opt( model, sv[0], sv[1], C0 )\n",
    "    # return a covariance function\n",
    "    covfct = lambda h, a=param: C0 - model( h, a, C0 )\n",
    "    return covfct"
   ]
  },
  {
   "cell_type": "code",
   "execution_count": 3,
   "metadata": {
    "collapsed": false
   },
   "outputs": [
    {
     "name": "stdout",
     "output_type": "stream",
     "text": [
      "Index([u'Timestamp', u'Lat', u'Lon', u'S', u'T', u'Fluo', u'TrueO2Ar',\n",
      "       u'O2Arsat', u'O2Arbiosat', u'MLD (WOA13)', u'Wkn', u'Air-sea flux',\n",
      "       u'density'],\n",
      "      dtype='object')\n"
     ]
    }
   ],
   "source": [
    "# import data\n",
    "\n",
    "maxlon = 170.01\n",
    "minlon = 139\n",
    "\n",
    "Tok1 = pd.read_csv(r'/Users/sclayton/Google Drive/o2ar_data/Tokyo1_vSept16.csv', sep = ',')\n",
    "Tok1['density'] = sw.rho(Tok1['S'].values,Tok1['T'].values,0)\n",
    "Tok1 = Tok1[(Tok1['Lon']>minlon) & (Tok1['Lon']<maxlon)]\n",
    "\n",
    "Tok1['dlat'] = np.insert(np.diff(Tok1['Lat']), 0, 0)\n",
    "Tok1 = Tok1[np.abs(Tok1['dlat'])<0.08]\n",
    "\n",
    "Tok3 = pd.read_csv(r'/Users/sclayton/Google Drive/o2ar_data/Tokyo3_vSept16.csv', sep = ',')\n",
    "Tok3['density'] = sw.rho(Tok3['S'].values,Tok3['T'].values,0)\n",
    "Tok3 = Tok3[(Tok3['Lon']>minlon) & (Tok3['Lon']<maxlon)]\n",
    "\n",
    "Tian = pd.read_csv(r'/Users/sclayton/Google Drive/o2ar_data/Tianjin2_vSept16.csv', sep = ',')\n",
    "Tian['density'] = sw.rho(Tian['S'].values,Tian['T'].values,0)\n",
    "Tian = Tian[(Tian['Lon']>minlon) & (Tian['Lon']<maxlon)]\n",
    "\n",
    "print Tian.columns"
   ]
  },
  {
   "cell_type": "code",
   "execution_count": 5,
   "metadata": {
    "collapsed": false
   },
   "outputs": [
    {
     "name": "stdout",
     "output_type": "stream",
     "text": [
      "838        0.000000\n",
      "839        2.069866\n",
      "840        4.157046\n",
      "841        6.259494\n",
      "842        8.320467\n",
      "843       10.411399\n",
      "845       41.342079\n",
      "846       43.330987\n",
      "847       45.372740\n",
      "848       47.361369\n",
      "849       49.305074\n",
      "850       51.307134\n",
      "851       53.272248\n",
      "852       55.250219\n",
      "853       57.199284\n",
      "854       59.110004\n",
      "855       61.046766\n",
      "856       62.942924\n",
      "857       64.844032\n",
      "858       66.740524\n",
      "859       68.619094\n",
      "860       70.542546\n",
      "861       72.411930\n",
      "862       74.287622\n",
      "863       76.166047\n",
      "864       78.071882\n",
      "865       80.045039\n",
      "866       81.976192\n",
      "867       83.907883\n",
      "868       85.805186\n",
      "           ...     \n",
      "1930    2865.279468\n",
      "1931    2867.252774\n",
      "1932    2869.165978\n",
      "1933    2871.127113\n",
      "1934    2873.086109\n",
      "1935    2874.986654\n",
      "1936    2876.916568\n",
      "1937    2878.867059\n",
      "1938    2880.823455\n",
      "1939    2882.737268\n",
      "1940    2884.722904\n",
      "1941    2886.688679\n",
      "1942    2888.637604\n",
      "1943    2890.642999\n",
      "1944    2892.590566\n",
      "1945    2894.553373\n",
      "1946    2896.554308\n",
      "1947    2898.533014\n",
      "1948    2900.546628\n",
      "1949    2902.512290\n",
      "1950    2904.501711\n",
      "1951    2906.532650\n",
      "1952    2908.532005\n",
      "1953    2910.495309\n",
      "1954    2912.505504\n",
      "1955    2914.508675\n",
      "1956    2916.532142\n",
      "1957    2918.532369\n",
      "1958    2920.520782\n",
      "1959    2922.563027\n",
      "Name: distance, dtype: float64\n"
     ]
    }
   ],
   "source": [
    "# calculate distance between points\n",
    "Tok1['distance'] = np.insert(np.cumsum(sw.distance(Tok1['Lon'], Tok1['Lat'], 0)[0]),0,0)/1000\n",
    "\n",
    "print Tok1.distance"
   ]
  },
  {
   "cell_type": "code",
   "execution_count": null,
   "metadata": {
    "collapsed": true
   },
   "outputs": [],
   "source": [
    "# automate process of getting continuous segments\n",
    "# make this a function\n",
    "\n",
    "segments = []\n",
    "\n",
    "start = 0\n",
    "for i in range(len(crsub)-1):\n",
    "    \n",
    "    if cdistance[i] > 20000:\n",
    "\n",
    "        s = crsub[start:i+1]\n",
    "        print \"found\", i, cdistance[i], start\n",
    "        #raw_input()\n",
    "        segments.append(s)\n",
    "        start = i+1\n",
    "                                             \n",
    "print [s.shape for s in segments]"
   ]
  }
 ],
 "metadata": {
  "kernelspec": {
   "display_name": "Python 2",
   "language": "python",
   "name": "python2"
  },
  "language_info": {
   "codemirror_mode": {
    "name": "ipython",
    "version": 2
   },
   "file_extension": ".py",
   "mimetype": "text/x-python",
   "name": "python",
   "nbconvert_exporter": "python",
   "pygments_lexer": "ipython2",
   "version": "2.7.11"
  }
 },
 "nbformat": 4,
 "nbformat_minor": 0
}
